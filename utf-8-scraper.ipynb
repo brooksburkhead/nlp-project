{
 "cells": [
  {
   "cell_type": "markdown",
   "metadata": {},
   "source": [
    "# UTF Character Web Scrape"
   ]
  },
  {
   "cell_type": "markdown",
   "metadata": {},
   "source": [
    "For my Natural Language Processing project, special characters in the data were expressed as utf-8 codes, rather than ascii characters. I found this website (https://www.utf8-chartable.de/) which has a table of utf-8 characters and their corresponding ascii characters. The end goal is to create a dictionary of these mappings so that I can easily convert them in my NLP project."
   ]
  },
  {
   "cell_type": "markdown",
   "metadata": {},
   "source": [
    "## Import Libraries we need"
   ]
  },
  {
   "cell_type": "code",
   "execution_count": 1,
   "metadata": {},
   "outputs": [],
   "source": [
    "import requests\n",
    "from bs4 import BeautifulSoup\n",
    "import pandas as pd\n"
   ]
  },
  {
   "cell_type": "markdown",
   "metadata": {},
   "source": [
    "## Data Loading"
   ]
  },
  {
   "cell_type": "markdown",
   "metadata": {},
   "source": [
    "- Data Obtained from the table on this [web page](https://www.utf8-chartable.de/)\n",
    "\n",
    "- The data is a table of utf-8 codes and their corresponding ascii character"
   ]
  },
  {
   "cell_type": "code",
   "execution_count": 2,
   "metadata": {},
   "outputs": [],
   "source": [
    "url = 'https://www.utf8-chartable.de/'\n",
    "\n",
    "response = requests.get(url)\n"
   ]
  },
  {
   "cell_type": "markdown",
   "metadata": {},
   "source": [
    "## Web Scraping"
   ]
  },
  {
   "cell_type": "code",
   "execution_count": 19,
   "metadata": {},
   "outputs": [],
   "source": [
    "if response.status_code == 200:\n",
    "    \n",
    "    soup = BeautifulSoup(response.text, 'html.parser')\n",
    "\n",
    "    char_elements = soup.find_all('td', class_='char')\n",
    "\n",
    "    utf8_elements = soup.find_all('td', class_='utf8')\n",
    "\n",
    "    char_data = [char.text.strip() for char in char_elements]\n",
    "    utf8_data = [utf8.text.strip() for utf8 in utf8_elements]\n"
   ]
  },
  {
   "cell_type": "code",
   "execution_count": 6,
   "metadata": {},
   "outputs": [
    {
     "name": "stdout",
     "output_type": "stream",
     "text": [
      "['', '!', '\"', '#', '$', '%', '&', \"'\", '(', ')', '*', '+', ',', '-', '.', '/', '0', '1', '2', '3', '4', '5', '6', '7', '8', '9', ':', ';', '<', '=', '>', '?', '@', 'A', 'B', 'C', 'D', 'E', 'F', 'G', 'H', 'I', 'J', 'K', 'L', 'M', 'N', 'O', 'P', 'Q', 'R', 'S', 'T', 'U', 'V', 'W', 'X', 'Y', 'Z', '[', '\\\\', ']', '^', '_', '`', 'a', 'b', 'c', 'd', 'e', 'f', 'g', 'h', 'i', 'j', 'k', 'l', 'm', 'n', 'o', 'p', 'q', 'r', 's', 't', 'u', 'v', 'w', 'x', 'y', 'z', '{', '|', '}', '~', '', '¡', '¢', '£', '¤', '¥', '¦', '§', '¨', '©', 'ª', '«', '¬', '\\xad', '®', '¯', '°', '±', '²', '³', '´', 'µ', '¶', '·', '¸', '¹', 'º', '»', '¼', '½', '¾', '¿', 'À', 'Á', 'Â', 'Ã', 'Ä', 'Å', 'Æ', 'Ç', 'È', 'É', 'Ê', 'Ë', 'Ì', 'Í', 'Î', 'Ï', 'Ð', 'Ñ', 'Ò', 'Ó', 'Ô', 'Õ', 'Ö', '×', 'Ø', 'Ù', 'Ú', 'Û', 'Ü', 'Ý', 'Þ', 'ß', 'à', 'á', 'â', 'ã', 'ä', 'å', 'æ', 'ç', 'è', 'é', 'ê', 'ë', 'ì', 'í', 'î', 'ï', 'ð', 'ñ', 'ò', 'ó', 'ô', 'õ', 'ö', '÷', 'ø', 'ù', 'ú', 'û', 'ü', 'ý', 'þ', 'ÿ']\n"
     ]
    }
   ],
   "source": [
    "print(char_data)\n"
   ]
  },
  {
   "cell_type": "code",
   "execution_count": 20,
   "metadata": {},
   "outputs": [
    {
     "name": "stdout",
     "output_type": "stream",
     "text": [
      "['00', '01', '02', '03', '04', '05', '06', '07', '08', '09', '0a', '0b', '0c', '0d', '0e', '0f', '10', '11', '12', '13', '14', '15', '16', '17', '18', '19', '1a', '1b', '1c', '1d', '1e', '1f', '20', '21', '22', '23', '24', '25', '26', '27', '28', '29', '2a', '2b', '2c', '2d', '2e', '2f', '30', '31', '32', '33', '34', '35', '36', '37', '38', '39', '3a', '3b', '3c', '3d', '3e', '3f', '40', '41', '42', '43', '44', '45', '46', '47', '48', '49', '4a', '4b', '4c', '4d', '4e', '4f', '50', '51', '52', '53', '54', '55', '56', '57', '58', '59', '5a', '5b', '5c', '5d', '5e', '5f', '60', '61', '62', '63', '64', '65', '66', '67', '68', '69', '6a', '6b', '6c', '6d', '6e', '6f', '70', '71', '72', '73', '74', '75', '76', '77', '78', '79', '7a', '7b', '7c', '7d', '7e', '7f', 'c2 80', 'c2 81', 'c2 82', 'c2 83', 'c2 84', 'c2 85', 'c2 86', 'c2 87', 'c2 88', 'c2 89', 'c2 8a', 'c2 8b', 'c2 8c', 'c2 8d', 'c2 8e', 'c2 8f', 'c2 90', 'c2 91', 'c2 92', 'c2 93', 'c2 94', 'c2 95', 'c2 96', 'c2 97', 'c2 98', 'c2 99', 'c2 9a', 'c2 9b', 'c2 9c', 'c2 9d', 'c2 9e', 'c2 9f', 'c2 a0', 'c2 a1', 'c2 a2', 'c2 a3', 'c2 a4', 'c2 a5', 'c2 a6', 'c2 a7', 'c2 a8', 'c2 a9', 'c2 aa', 'c2 ab', 'c2 ac', 'c2 ad', 'c2 ae', 'c2 af', 'c2 b0', 'c2 b1', 'c2 b2', 'c2 b3', 'c2 b4', 'c2 b5', 'c2 b6', 'c2 b7', 'c2 b8', 'c2 b9', 'c2 ba', 'c2 bb', 'c2 bc', 'c2 bd', 'c2 be', 'c2 bf', 'c3 80', 'c3 81', 'c3 82', 'c3 83', 'c3 84', 'c3 85', 'c3 86', 'c3 87', 'c3 88', 'c3 89', 'c3 8a', 'c3 8b', 'c3 8c', 'c3 8d', 'c3 8e', 'c3 8f', 'c3 90', 'c3 91', 'c3 92', 'c3 93', 'c3 94', 'c3 95', 'c3 96', 'c3 97', 'c3 98', 'c3 99', 'c3 9a', 'c3 9b', 'c3 9c', 'c3 9d', 'c3 9e', 'c3 9f', 'c3 a0', 'c3 a1', 'c3 a2', 'c3 a3', 'c3 a4', 'c3 a5', 'c3 a6', 'c3 a7', 'c3 a8', 'c3 a9', 'c3 aa', 'c3 ab', 'c3 ac', 'c3 ad', 'c3 ae', 'c3 af', 'c3 b0', 'c3 b1', 'c3 b2', 'c3 b3', 'c3 b4', 'c3 b5', 'c3 b6', 'c3 b7', 'c3 b8', 'c3 b9', 'c3 ba', 'c3 bb', 'c3 bc', 'c3 bd', 'c3 be', 'c3 bf']\n"
     ]
    }
   ],
   "source": [
    "print(utf8_data)\n"
   ]
  },
  {
   "cell_type": "markdown",
   "metadata": {},
   "source": [
    "## Cleaning up the Output"
   ]
  },
  {
   "cell_type": "markdown",
   "metadata": {},
   "source": [
    "### Limit characters to those after the 1st accented character"
   ]
  },
  {
   "cell_type": "code",
   "execution_count": 7,
   "metadata": {},
   "outputs": [
    {
     "data": {
      "text/plain": [
       "127"
      ]
     },
     "execution_count": 7,
     "metadata": {},
     "output_type": "execute_result"
    }
   ],
   "source": [
    "char_data.index('À')\n"
   ]
  },
  {
   "cell_type": "code",
   "execution_count": 10,
   "metadata": {},
   "outputs": [
    {
     "name": "stdout",
     "output_type": "stream",
     "text": [
      "['À', 'Á', 'Â', 'Ã', 'Ä', 'Å', 'Æ', 'Ç', 'È', 'É', 'Ê', 'Ë', 'Ì', 'Í', 'Î', 'Ï', 'Ð', 'Ñ', 'Ò', 'Ó', 'Ô', 'Õ', 'Ö', '×', 'Ø', 'Ù', 'Ú', 'Û', 'Ü', 'Ý', 'Þ', 'ß', 'à', 'á', 'â', 'ã', 'ä', 'å', 'æ', 'ç', 'è', 'é', 'ê', 'ë', 'ì', 'í', 'î', 'ï', 'ð', 'ñ', 'ò', 'ó', 'ô', 'õ', 'ö', '÷', 'ø', 'ù', 'ú', 'û', 'ü', 'ý', 'þ', 'ÿ']\n"
     ]
    },
    {
     "data": {
      "text/plain": [
       "64"
      ]
     },
     "execution_count": 10,
     "metadata": {},
     "output_type": "execute_result"
    }
   ],
   "source": [
    "filtered_char_data = char_data[127:]\n",
    "print(filtered_char_data)\n",
    "len(filtered_char_data)\n"
   ]
  },
  {
   "cell_type": "markdown",
   "metadata": {},
   "source": [
    "### Limit UTF codes to those beginning with c3"
   ]
  },
  {
   "cell_type": "code",
   "execution_count": 24,
   "metadata": {},
   "outputs": [
    {
     "name": "stdout",
     "output_type": "stream",
     "text": [
      "['c3 80', 'c3 81', 'c3 82', 'c3 83', 'c3 84', 'c3 85', 'c3 86', 'c3 87', 'c3 88', 'c3 89', 'c3 8a', 'c3 8b', 'c3 8c', 'c3 8d', 'c3 8e', 'c3 8f', 'c3 90', 'c3 91', 'c3 92', 'c3 93', 'c3 94', 'c3 95', 'c3 96', 'c3 97', 'c3 98', 'c3 99', 'c3 9a', 'c3 9b', 'c3 9c', 'c3 9d', 'c3 9e', 'c3 9f', 'c3 a0', 'c3 a1', 'c3 a2', 'c3 a3', 'c3 a4', 'c3 a5', 'c3 a6', 'c3 a7', 'c3 a8', 'c3 a9', 'c3 aa', 'c3 ab', 'c3 ac', 'c3 ad', 'c3 ae', 'c3 af', 'c3 b0', 'c3 b1', 'c3 b2', 'c3 b3', 'c3 b4', 'c3 b5', 'c3 b6', 'c3 b7', 'c3 b8', 'c3 b9', 'c3 ba', 'c3 bb', 'c3 bc', 'c3 bd', 'c3 be', 'c3 bf']\n"
     ]
    },
    {
     "data": {
      "text/plain": [
       "64"
      ]
     },
     "execution_count": 24,
     "metadata": {},
     "output_type": "execute_result"
    }
   ],
   "source": [
    "filtered_utf8_data = [utf for utf in utf8_data if utf.startswith('c3') ]\n",
    "print(filtered_utf8_data)\n",
    "len(filtered_utf8_data)\n"
   ]
  },
  {
   "cell_type": "markdown",
   "metadata": {},
   "source": [
    "### Combine lists into a DataFrame"
   ]
  },
  {
   "cell_type": "code",
   "execution_count": 17,
   "metadata": {},
   "outputs": [
    {
     "data": {
      "text/html": [
       "<div>\n",
       "<style scoped>\n",
       "    .dataframe tbody tr th:only-of-type {\n",
       "        vertical-align: middle;\n",
       "    }\n",
       "\n",
       "    .dataframe tbody tr th {\n",
       "        vertical-align: top;\n",
       "    }\n",
       "\n",
       "    .dataframe thead th {\n",
       "        text-align: right;\n",
       "    }\n",
       "</style>\n",
       "<table border=\"1\" class=\"dataframe\">\n",
       "  <thead>\n",
       "    <tr style=\"text-align: right;\">\n",
       "      <th></th>\n",
       "      <th>UTF-8</th>\n",
       "      <th>Char</th>\n",
       "    </tr>\n",
       "  </thead>\n",
       "  <tbody>\n",
       "    <tr>\n",
       "      <th>0</th>\n",
       "      <td>c3 80</td>\n",
       "      <td>À</td>\n",
       "    </tr>\n",
       "    <tr>\n",
       "      <th>1</th>\n",
       "      <td>c3 81</td>\n",
       "      <td>Á</td>\n",
       "    </tr>\n",
       "    <tr>\n",
       "      <th>2</th>\n",
       "      <td>c3 82</td>\n",
       "      <td>Â</td>\n",
       "    </tr>\n",
       "    <tr>\n",
       "      <th>3</th>\n",
       "      <td>c3 83</td>\n",
       "      <td>Ã</td>\n",
       "    </tr>\n",
       "    <tr>\n",
       "      <th>4</th>\n",
       "      <td>c3 84</td>\n",
       "      <td>Ä</td>\n",
       "    </tr>\n",
       "    <tr>\n",
       "      <th>...</th>\n",
       "      <td>...</td>\n",
       "      <td>...</td>\n",
       "    </tr>\n",
       "    <tr>\n",
       "      <th>59</th>\n",
       "      <td>c3 bb</td>\n",
       "      <td>û</td>\n",
       "    </tr>\n",
       "    <tr>\n",
       "      <th>60</th>\n",
       "      <td>c3 bc</td>\n",
       "      <td>ü</td>\n",
       "    </tr>\n",
       "    <tr>\n",
       "      <th>61</th>\n",
       "      <td>c3 bd</td>\n",
       "      <td>ý</td>\n",
       "    </tr>\n",
       "    <tr>\n",
       "      <th>62</th>\n",
       "      <td>c3 be</td>\n",
       "      <td>þ</td>\n",
       "    </tr>\n",
       "    <tr>\n",
       "      <th>63</th>\n",
       "      <td>c3 bf</td>\n",
       "      <td>ÿ</td>\n",
       "    </tr>\n",
       "  </tbody>\n",
       "</table>\n",
       "<p>64 rows × 2 columns</p>\n",
       "</div>"
      ],
      "text/plain": [
       "    UTF-8 Char\n",
       "0   c3 80    À\n",
       "1   c3 81    Á\n",
       "2   c3 82    Â\n",
       "3   c3 83    Ã\n",
       "4   c3 84    Ä\n",
       "..    ...  ...\n",
       "59  c3 bb    û\n",
       "60  c3 bc    ü\n",
       "61  c3 bd    ý\n",
       "62  c3 be    þ\n",
       "63  c3 bf    ÿ\n",
       "\n",
       "[64 rows x 2 columns]"
      ]
     },
     "execution_count": 17,
     "metadata": {},
     "output_type": "execute_result"
    }
   ],
   "source": [
    "df = pd.DataFrame({ 'UTF-8': filtered_utf8_data, \n",
    "                   'Char': filtered_char_data,})\n",
    "df\n"
   ]
  },
  {
   "cell_type": "markdown",
   "metadata": {},
   "source": [
    "### Convert DataFrame into a dictionary"
   ]
  },
  {
   "cell_type": "code",
   "execution_count": 18,
   "metadata": {},
   "outputs": [
    {
     "data": {
      "text/plain": [
       "{'c3 80': 'À',\n",
       " 'c3 81': 'Á',\n",
       " 'c3 82': 'Â',\n",
       " 'c3 83': 'Ã',\n",
       " 'c3 84': 'Ä',\n",
       " 'c3 85': 'Å',\n",
       " 'c3 86': 'Æ',\n",
       " 'c3 87': 'Ç',\n",
       " 'c3 88': 'È',\n",
       " 'c3 89': 'É',\n",
       " 'c3 8a': 'Ê',\n",
       " 'c3 8b': 'Ë',\n",
       " 'c3 8c': 'Ì',\n",
       " 'c3 8d': 'Í',\n",
       " 'c3 8e': 'Î',\n",
       " 'c3 8f': 'Ï',\n",
       " 'c3 90': 'Ð',\n",
       " 'c3 91': 'Ñ',\n",
       " 'c3 92': 'Ò',\n",
       " 'c3 93': 'Ó',\n",
       " 'c3 94': 'Ô',\n",
       " 'c3 95': 'Õ',\n",
       " 'c3 96': 'Ö',\n",
       " 'c3 97': '×',\n",
       " 'c3 98': 'Ø',\n",
       " 'c3 99': 'Ù',\n",
       " 'c3 9a': 'Ú',\n",
       " 'c3 9b': 'Û',\n",
       " 'c3 9c': 'Ü',\n",
       " 'c3 9d': 'Ý',\n",
       " 'c3 9e': 'Þ',\n",
       " 'c3 9f': 'ß',\n",
       " 'c3 a0': 'à',\n",
       " 'c3 a1': 'á',\n",
       " 'c3 a2': 'â',\n",
       " 'c3 a3': 'ã',\n",
       " 'c3 a4': 'ä',\n",
       " 'c3 a5': 'å',\n",
       " 'c3 a6': 'æ',\n",
       " 'c3 a7': 'ç',\n",
       " 'c3 a8': 'è',\n",
       " 'c3 a9': 'é',\n",
       " 'c3 aa': 'ê',\n",
       " 'c3 ab': 'ë',\n",
       " 'c3 ac': 'ì',\n",
       " 'c3 ad': 'í',\n",
       " 'c3 ae': 'î',\n",
       " 'c3 af': 'ï',\n",
       " 'c3 b0': 'ð',\n",
       " 'c3 b1': 'ñ',\n",
       " 'c3 b2': 'ò',\n",
       " 'c3 b3': 'ó',\n",
       " 'c3 b4': 'ô',\n",
       " 'c3 b5': 'õ',\n",
       " 'c3 b6': 'ö',\n",
       " 'c3 b7': '÷',\n",
       " 'c3 b8': 'ø',\n",
       " 'c3 b9': 'ù',\n",
       " 'c3 ba': 'ú',\n",
       " 'c3 bb': 'û',\n",
       " 'c3 bc': 'ü',\n",
       " 'c3 bd': 'ý',\n",
       " 'c3 be': 'þ',\n",
       " 'c3 bf': 'ÿ'}"
      ]
     },
     "execution_count": 18,
     "metadata": {},
     "output_type": "execute_result"
    }
   ],
   "source": [
    "utf8_char_dict = df.set_index('UTF-8')['Char'].to_dict()\n",
    "utf8_char_dict\n"
   ]
  },
  {
   "cell_type": "code",
   "execution_count": null,
   "metadata": {},
   "outputs": [],
   "source": [
    "\n"
   ]
  }
 ],
 "metadata": {
  "kernelspec": {
   "display_name": "base",
   "language": "python",
   "name": "python3"
  },
  "language_info": {
   "codemirror_mode": {
    "name": "ipython",
    "version": 3
   },
   "file_extension": ".py",
   "mimetype": "text/x-python",
   "name": "python",
   "nbconvert_exporter": "python",
   "pygments_lexer": "ipython3",
   "version": "3.11.5"
  }
 },
 "nbformat": 4,
 "nbformat_minor": 2
}
