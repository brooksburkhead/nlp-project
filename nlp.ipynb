{
 "cells": [
  {
   "cell_type": "markdown",
   "metadata": {},
   "source": [
    "# NLP Project\n"
   ]
  },
  {
   "cell_type": "markdown",
   "metadata": {},
   "source": [
    "## Problem Definition"
   ]
  },
  {
   "cell_type": "markdown",
   "metadata": {},
   "source": [
    "- {problem def}"
   ]
  },
  {
   "cell_type": "markdown",
   "metadata": {},
   "source": [
    "## Data Loading"
   ]
  },
  {
   "cell_type": "markdown",
   "metadata": {},
   "source": [
    "Data availible from https://ddc-datascience.s3.amazonaws.com/Projects/Project.5-NLP/Data/NLP.csv"
   ]
  },
  {
   "cell_type": "markdown",
   "metadata": {},
   "source": [
    "### Import Libraries we need"
   ]
  },
  {
   "cell_type": "code",
   "execution_count": 32,
   "metadata": {},
   "outputs": [],
   "source": [
    "import pandas as pd \n",
    "import numpy as np \n",
    "import pickle\n",
    "\n",
    "from textblob import TextBlob\n",
    "from sklearn.feature_extraction.text import TfidfVectorizer\n",
    "from sklearn.neighbors import NearestNeighbors\n"
   ]
  },
  {
   "cell_type": "code",
   "execution_count": 2,
   "metadata": {},
   "outputs": [],
   "source": [
    "path = 'dbpedia_data.csv'\n",
    "raw_dbpedia_data = pd.read_csv(path)\n"
   ]
  },
  {
   "cell_type": "code",
   "execution_count": 3,
   "metadata": {},
   "outputs": [
    {
     "data": {
      "text/html": [
       "<div>\n",
       "<style scoped>\n",
       "    .dataframe tbody tr th:only-of-type {\n",
       "        vertical-align: middle;\n",
       "    }\n",
       "\n",
       "    .dataframe tbody tr th {\n",
       "        vertical-align: top;\n",
       "    }\n",
       "\n",
       "    .dataframe thead th {\n",
       "        text-align: right;\n",
       "    }\n",
       "</style>\n",
       "<table border=\"1\" class=\"dataframe\">\n",
       "  <thead>\n",
       "    <tr style=\"text-align: right;\">\n",
       "      <th></th>\n",
       "      <th>URI</th>\n",
       "      <th>name</th>\n",
       "      <th>text</th>\n",
       "    </tr>\n",
       "  </thead>\n",
       "  <tbody>\n",
       "    <tr>\n",
       "      <th>0</th>\n",
       "      <td>&lt;http://dbpedia.org/resource/Digby_Morrell&gt;</td>\n",
       "      <td>Digby Morrell</td>\n",
       "      <td>digby morrell born 10 october 1979 is a former...</td>\n",
       "    </tr>\n",
       "    <tr>\n",
       "      <th>1</th>\n",
       "      <td>&lt;http://dbpedia.org/resource/Alfred_J._Lewy&gt;</td>\n",
       "      <td>Alfred J. Lewy</td>\n",
       "      <td>alfred j lewy aka sandy lewy graduated from un...</td>\n",
       "    </tr>\n",
       "    <tr>\n",
       "      <th>2</th>\n",
       "      <td>&lt;http://dbpedia.org/resource/Harpdog_Brown&gt;</td>\n",
       "      <td>Harpdog Brown</td>\n",
       "      <td>harpdog brown is a singer and harmonica player...</td>\n",
       "    </tr>\n",
       "    <tr>\n",
       "      <th>3</th>\n",
       "      <td>&lt;http://dbpedia.org/resource/Franz_Rottensteiner&gt;</td>\n",
       "      <td>Franz Rottensteiner</td>\n",
       "      <td>franz rottensteiner born in waidmannsfeld lowe...</td>\n",
       "    </tr>\n",
       "    <tr>\n",
       "      <th>4</th>\n",
       "      <td>&lt;http://dbpedia.org/resource/G-Enka&gt;</td>\n",
       "      <td>G-Enka</td>\n",
       "      <td>henry krvits born 30 december 1974 in tallinn ...</td>\n",
       "    </tr>\n",
       "  </tbody>\n",
       "</table>\n",
       "</div>"
      ],
      "text/plain": [
       "                                                 URI                 name  \\\n",
       "0        <http://dbpedia.org/resource/Digby_Morrell>        Digby Morrell   \n",
       "1       <http://dbpedia.org/resource/Alfred_J._Lewy>       Alfred J. Lewy   \n",
       "2        <http://dbpedia.org/resource/Harpdog_Brown>        Harpdog Brown   \n",
       "3  <http://dbpedia.org/resource/Franz_Rottensteiner>  Franz Rottensteiner   \n",
       "4               <http://dbpedia.org/resource/G-Enka>               G-Enka   \n",
       "\n",
       "                                                text  \n",
       "0  digby morrell born 10 october 1979 is a former...  \n",
       "1  alfred j lewy aka sandy lewy graduated from un...  \n",
       "2  harpdog brown is a singer and harmonica player...  \n",
       "3  franz rottensteiner born in waidmannsfeld lowe...  \n",
       "4  henry krvits born 30 december 1974 in tallinn ...  "
      ]
     },
     "execution_count": 3,
     "metadata": {},
     "output_type": "execute_result"
    }
   ],
   "source": [
    "raw_dbpedia_data.head()\n"
   ]
  },
  {
   "cell_type": "markdown",
   "metadata": {},
   "source": [
    "## EDA"
   ]
  },
  {
   "cell_type": "code",
   "execution_count": 4,
   "metadata": {},
   "outputs": [],
   "source": [
    "#pull metadata function\n"
   ]
  },
  {
   "cell_type": "code",
   "execution_count": 5,
   "metadata": {},
   "outputs": [
    {
     "data": {
      "text/plain": [
       "(42786, 3)"
      ]
     },
     "execution_count": 5,
     "metadata": {},
     "output_type": "execute_result"
    }
   ],
   "source": [
    "raw_dbpedia_data.shape\n"
   ]
  },
  {
   "cell_type": "code",
   "execution_count": 29,
   "metadata": {},
   "outputs": [
    {
     "data": {
      "text/html": [
       "<div>\n",
       "<style scoped>\n",
       "    .dataframe tbody tr th:only-of-type {\n",
       "        vertical-align: middle;\n",
       "    }\n",
       "\n",
       "    .dataframe tbody tr th {\n",
       "        vertical-align: top;\n",
       "    }\n",
       "\n",
       "    .dataframe thead th {\n",
       "        text-align: right;\n",
       "    }\n",
       "</style>\n",
       "<table border=\"1\" class=\"dataframe\">\n",
       "  <thead>\n",
       "    <tr style=\"text-align: right;\">\n",
       "      <th></th>\n",
       "      <th>URI</th>\n",
       "      <th>name</th>\n",
       "      <th>text</th>\n",
       "    </tr>\n",
       "  </thead>\n",
       "  <tbody>\n",
       "    <tr>\n",
       "      <th>35</th>\n",
       "      <td>&lt;http://dbpedia.org/resource/Freimut_B%C3%B6rn...</td>\n",
       "      <td>Freimut B%C3%B6rngen</td>\n",
       "      <td>freimut brngen born october 17 1930 is a germa...</td>\n",
       "    </tr>\n",
       "    <tr>\n",
       "      <th>36</th>\n",
       "      <td>&lt;http://dbpedia.org/resource/Th%C3%BCring_Br%C...</td>\n",
       "      <td>Th%C3%BCring Br%C3%A4m</td>\n",
       "      <td>thring brm born 10 april 1944 is a swiss compo...</td>\n",
       "    </tr>\n",
       "    <tr>\n",
       "      <th>73</th>\n",
       "      <td>&lt;http://dbpedia.org/resource/Marcel_J._Melan%C...</td>\n",
       "      <td>Marcel J. Melan%C3%A7on</td>\n",
       "      <td>marcel j mlanon is a philosopher and scientist...</td>\n",
       "    </tr>\n",
       "    <tr>\n",
       "      <th>85</th>\n",
       "      <td>&lt;http://dbpedia.org/resource/Zvonimir_Juri%C4%87&gt;</td>\n",
       "      <td>Zvonimir Juri%C4%87</td>\n",
       "      <td>zvonimir juri born 4 june 1971 is a croatian f...</td>\n",
       "    </tr>\n",
       "    <tr>\n",
       "      <th>122</th>\n",
       "      <td>&lt;http://dbpedia.org/resource/Se%C3%A1n_%C3%93g...</td>\n",
       "      <td>Se%C3%A1n %C3%93g %C3%93 hAilp%C3%ADn</td>\n",
       "      <td>sen g hailpn born 22 may 1977 is a fijianirish...</td>\n",
       "    </tr>\n",
       "    <tr>\n",
       "      <th>...</th>\n",
       "      <td>...</td>\n",
       "      <td>...</td>\n",
       "      <td>...</td>\n",
       "    </tr>\n",
       "    <tr>\n",
       "      <th>42724</th>\n",
       "      <td>&lt;http://dbpedia.org/resource/Jos%C3%A9_Higueras&gt;</td>\n",
       "      <td>Jos%C3%A9 Higueras</td>\n",
       "      <td>jos higueras born february 28 1953 in diezma a...</td>\n",
       "    </tr>\n",
       "    <tr>\n",
       "      <th>42732</th>\n",
       "      <td>&lt;http://dbpedia.org/resource/Ole_Gunnar_Solskj...</td>\n",
       "      <td>Ole Gunnar Solskj%C3%A6r</td>\n",
       "      <td>ole gunnar solskjr born 26 february 1973 is a ...</td>\n",
       "    </tr>\n",
       "    <tr>\n",
       "      <th>42733</th>\n",
       "      <td>&lt;http://dbpedia.org/resource/Gerd_Gr%C3%B8nvol...</td>\n",
       "      <td>Gerd Gr%C3%B8nvold Saue</td>\n",
       "      <td>gerd grnvold saue born 20 january 1930 is a no...</td>\n",
       "    </tr>\n",
       "    <tr>\n",
       "      <th>42746</th>\n",
       "      <td>&lt;http://dbpedia.org/resource/Floria_M%C3%A1rquez&gt;</td>\n",
       "      <td>Floria M%C3%A1rquez</td>\n",
       "      <td>floria mrquez b february 11 1950 in caracas is...</td>\n",
       "    </tr>\n",
       "    <tr>\n",
       "      <th>42784</th>\n",
       "      <td>&lt;http://dbpedia.org/resource/Tatiana_Faberg%C3...</td>\n",
       "      <td>Tatiana Faberg%C3%A9</td>\n",
       "      <td>tatiana faberg is an author and faberg scholar...</td>\n",
       "    </tr>\n",
       "  </tbody>\n",
       "</table>\n",
       "<p>2472 rows × 3 columns</p>\n",
       "</div>"
      ],
      "text/plain": [
       "                                                     URI  \\\n",
       "35     <http://dbpedia.org/resource/Freimut_B%C3%B6rn...   \n",
       "36     <http://dbpedia.org/resource/Th%C3%BCring_Br%C...   \n",
       "73     <http://dbpedia.org/resource/Marcel_J._Melan%C...   \n",
       "85     <http://dbpedia.org/resource/Zvonimir_Juri%C4%87>   \n",
       "122    <http://dbpedia.org/resource/Se%C3%A1n_%C3%93g...   \n",
       "...                                                  ...   \n",
       "42724   <http://dbpedia.org/resource/Jos%C3%A9_Higueras>   \n",
       "42732  <http://dbpedia.org/resource/Ole_Gunnar_Solskj...   \n",
       "42733  <http://dbpedia.org/resource/Gerd_Gr%C3%B8nvol...   \n",
       "42746  <http://dbpedia.org/resource/Floria_M%C3%A1rquez>   \n",
       "42784  <http://dbpedia.org/resource/Tatiana_Faberg%C3...   \n",
       "\n",
       "                                        name  \\\n",
       "35                      Freimut B%C3%B6rngen   \n",
       "36                    Th%C3%BCring Br%C3%A4m   \n",
       "73                   Marcel J. Melan%C3%A7on   \n",
       "85                       Zvonimir Juri%C4%87   \n",
       "122    Se%C3%A1n %C3%93g %C3%93 hAilp%C3%ADn   \n",
       "...                                      ...   \n",
       "42724                     Jos%C3%A9 Higueras   \n",
       "42732               Ole Gunnar Solskj%C3%A6r   \n",
       "42733                Gerd Gr%C3%B8nvold Saue   \n",
       "42746                    Floria M%C3%A1rquez   \n",
       "42784                   Tatiana Faberg%C3%A9   \n",
       "\n",
       "                                                    text  \n",
       "35     freimut brngen born october 17 1930 is a germa...  \n",
       "36     thring brm born 10 april 1944 is a swiss compo...  \n",
       "73     marcel j mlanon is a philosopher and scientist...  \n",
       "85     zvonimir juri born 4 june 1971 is a croatian f...  \n",
       "122    sen g hailpn born 22 may 1977 is a fijianirish...  \n",
       "...                                                  ...  \n",
       "42724  jos higueras born february 28 1953 in diezma a...  \n",
       "42732  ole gunnar solskjr born 26 february 1973 is a ...  \n",
       "42733  gerd grnvold saue born 20 january 1930 is a no...  \n",
       "42746  floria mrquez b february 11 1950 in caracas is...  \n",
       "42784  tatiana faberg is an author and faberg scholar...  \n",
       "\n",
       "[2472 rows x 3 columns]"
      ]
     },
     "execution_count": 29,
     "metadata": {},
     "output_type": "execute_result"
    }
   ],
   "source": [
    "name_error_filter = raw_dbpedia_data['name'].str.contains('%C')\n",
    "raw_dbpedia_data[name_error_filter]\n"
   ]
  },
  {
   "cell_type": "markdown",
   "metadata": {},
   "source": [
    "## Data Cleaning"
   ]
  },
  {
   "cell_type": "markdown",
   "metadata": {},
   "source": [
    "### Taking care of utf-8 codes"
   ]
  },
  {
   "cell_type": "code",
   "execution_count": 7,
   "metadata": {},
   "outputs": [],
   "source": [
    "clean_dbpedia_data = raw_dbpedia_data.copy()\n"
   ]
  },
  {
   "cell_type": "markdown",
   "metadata": {},
   "source": [
    "- Steps to cleaning\n",
    "    1. Remove percent symbols to isolate utf-8 codes\n",
    "\n",
    "    1. Convert utf-8 code to corresponding character using KV pair"
   ]
  },
  {
   "cell_type": "code",
   "execution_count": null,
   "metadata": {},
   "outputs": [],
   "source": []
  },
  {
   "cell_type": "code",
   "execution_count": 33,
   "metadata": {},
   "outputs": [],
   "source": [
    "pickle_file_path = 'utf8_char_dict.pkl'\n",
    "with open(pickle_file_path, 'rb') as file:\n",
    "\n",
    "    utf8_char_dict = pickle.load(file)\n"
   ]
  },
  {
   "cell_type": "markdown",
   "metadata": {},
   "source": [
    "## Data Preprocessing"
   ]
  },
  {
   "cell_type": "markdown",
   "metadata": {},
   "source": []
  },
  {
   "cell_type": "markdown",
   "metadata": {},
   "source": [
    "## Data Processing"
   ]
  },
  {
   "cell_type": "markdown",
   "metadata": {},
   "source": [
    "### DBpedia Similarity"
   ]
  },
  {
   "cell_type": "markdown",
   "metadata": {},
   "source": [
    "### Wikipedia Similarity"
   ]
  },
  {
   "cell_type": "markdown",
   "metadata": {},
   "source": [
    "### Conclusions & Future Prospects"
   ]
  },
  {
   "cell_type": "markdown",
   "metadata": {},
   "source": []
  }
 ],
 "metadata": {
  "kernelspec": {
   "display_name": "Python 3",
   "language": "python",
   "name": "python3"
  },
  "language_info": {
   "codemirror_mode": {
    "name": "ipython",
    "version": 3
   },
   "file_extension": ".py",
   "mimetype": "text/x-python",
   "name": "python",
   "nbconvert_exporter": "python",
   "pygments_lexer": "ipython3",
   "version": "3.11.5"
  }
 },
 "nbformat": 4,
 "nbformat_minor": 2
}
